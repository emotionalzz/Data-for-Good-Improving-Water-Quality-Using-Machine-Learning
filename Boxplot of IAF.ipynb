{
 "cells": [
  {
   "cell_type": "code",
   "execution_count": 2,
   "id": "539e8fc2",
   "metadata": {},
   "outputs": [],
   "source": [
    "import ee"
   ]
  },
  {
   "cell_type": "code",
   "execution_count": 4,
   "id": "2980534b",
   "metadata": {},
   "outputs": [
    {
     "data": {
      "text/html": [
       "<p>To authorize access needed by Earth Engine, open the following\n",
       "        URL in a web browser and follow the instructions:</p>\n",
       "        <p><a href=https://code.earthengine.google.com/client-auth?scopes=https%3A//www.googleapis.com/auth/earthengine%20https%3A//www.googleapis.com/auth/devstorage.full_control&request_id=1NYq7AH2Xgy2e5Yj5FZxiJgpDuNYLxr7mlKtTMMF6p0&tc=sN2NNcEYot2gdDN0Nu2mzgmhIS_YQ8ZWh8M3ILwhAN4&cc=0FkNjctLD9u9h0_HebpMczPBdV46uQwLjS9UOx_z7a0>https://code.earthengine.google.com/client-auth?scopes=https%3A//www.googleapis.com/auth/earthengine%20https%3A//www.googleapis.com/auth/devstorage.full_control&request_id=1NYq7AH2Xgy2e5Yj5FZxiJgpDuNYLxr7mlKtTMMF6p0&tc=sN2NNcEYot2gdDN0Nu2mzgmhIS_YQ8ZWh8M3ILwhAN4&cc=0FkNjctLD9u9h0_HebpMczPBdV46uQwLjS9UOx_z7a0</a></p>\n",
       "        <p>The authorization workflow will generate a code, which you should paste in the box below.</p>\n",
       "        "
      ],
      "text/plain": [
       "<IPython.core.display.HTML object>"
      ]
     },
     "metadata": {},
     "output_type": "display_data"
    },
    {
     "name": "stdout",
     "output_type": "stream",
     "text": [
      "Enter verification code: 4/1ARtbsJqlbkV3oqKMwk0Slt8i9lJhVJmRvcnpNB2qHizYGAitaQI5AgpjhxU\n",
      "\n",
      "Successfully saved authorization token.\n"
     ]
    }
   ],
   "source": [
    "ee.Authenticate()\n",
    "ee.Initialize()"
   ]
  },
  {
   "cell_type": "code",
   "execution_count": 5,
   "id": "c6347fe9",
   "metadata": {},
   "outputs": [],
   "source": [
    "poly4 = ee.Geometry.Point([-86.295118, 45.215874]).buffer(40000)"
   ]
  },
  {
   "cell_type": "code",
   "execution_count": 7,
   "id": "fee6083a",
   "metadata": {},
   "outputs": [],
   "source": [
    "import folium"
   ]
  },
  {
   "cell_type": "code",
   "execution_count": 10,
   "id": "ce06027b",
   "metadata": {},
   "outputs": [],
   "source": [
    "def add_ee_layer(self, ee_image_object, vis_params, name):\n",
    "  map_id_dict = ee.Image(ee_image_object).getMapId(vis_params)\n",
    "  folium.raster_layers.TileLayer(\n",
    "    tiles = map_id_dict['tile_fetcher'].url_format,\n",
    "    attr = 'Map Data &copy; <a href=\"https://earthengine.google.com/\">Google Earth Engine</a>',\n",
    "    name = name,\n",
    "    overlay = True,\n",
    "    control = True\n",
    "  ).add_to(self)"
   ]
  },
  {
   "cell_type": "code",
   "execution_count": 13,
   "id": "801e644f",
   "metadata": {},
   "outputs": [],
   "source": [
    "folium.Map.add_ee_layer = add_ee_layer"
   ]
  },
  {
   "cell_type": "code",
   "execution_count": 16,
   "id": "7c73e3cc",
   "metadata": {},
   "outputs": [],
   "source": [
    "# Set visualization parameters.\n",
    "vis_params = {\n",
    "  'min': 0,\n",
    "  'max': 4000,\n",
    "  'palette': ['006633', 'E5FFCC', '662A00', 'D8D8D8', 'F5F5F5']}"
   ]
  },
  {
   "cell_type": "code",
   "execution_count": 18,
   "id": "8a18e7eb",
   "metadata": {},
   "outputs": [],
   "source": [
    "# Create a folium map object.\n",
    "my_map = folium.Map(location=[-86.295118, 45.215874], zoom_start=3)"
   ]
  },
  {
   "cell_type": "code",
   "execution_count": 24,
   "id": "ef4a6b70",
   "metadata": {},
   "outputs": [
    {
     "data": {
      "application/vnd.jupyter.widget-view+json": {
       "model_id": "62ac0e44e1594d8a8e33d3fa49302e07",
       "version_major": 2,
       "version_minor": 0
      },
      "text/plain": [
       "Map(center=[40, -100], controls=(WidgetControl(options=['position', 'transparent_bg'], widget=HBox(children=(T…"
      ]
     },
     "metadata": {},
     "output_type": "display_data"
    }
   ],
   "source": [
    "import geemap\n",
    "m = geemap.Map()\n",
    "m"
   ]
  },
  {
   "cell_type": "code",
   "execution_count": 26,
   "id": "08d4bcf7",
   "metadata": {},
   "outputs": [],
   "source": [
    "gsw = ee.Image('JRC/GSW1_0/GlobalSurfaceWater')\n",
    "occurrence = gsw.select('occurrence');\n",
    "occurrenceVis = {\n",
    "  'min': 0.0,\n",
    "  'max': 100.0,\n",
    "  'palette': ['ffffff', 'ffbbbb', '0000ff'],\n",
    "}\n",
    "Map.setCenter(59.414, 45.182, 6)\n",
    "Map.addLayer(occurrence, occurrenceVis, 'occurrence')"
   ]
  },
  {
   "cell_type": "code",
   "execution_count": 29,
   "id": "75bd74ad",
   "metadata": {},
   "outputs": [],
   "source": [
    "poly5 = ee.Geometry.Point([-76.298213, 39.268582]).buffer(7000)\n",
    "Map.centerObject(poly5)\n",
    "Map.addLayer(poly5, {'color': 'FF0000'}, 'planar polygon')"
   ]
  },
  {
   "cell_type": "code",
   "execution_count": 30,
   "id": "afe61d55",
   "metadata": {
    "scrolled": true
   },
   "outputs": [
    {
     "data": {
      "application/vnd.jupyter.widget-view+json": {
       "model_id": "aebf2332d313425290966b6cf2616262",
       "version_major": 2,
       "version_minor": 0
      },
      "text/plain": [
       "Map(bottom=690.0, center=[39.26859409281428, -76.29807666054043], controls=(WidgetControl(options=['position',…"
      ]
     },
     "metadata": {},
     "output_type": "display_data"
    }
   ],
   "source": [
    "Map"
   ]
  },
  {
   "cell_type": "code",
   "execution_count": 35,
   "id": "b32f6ec3",
   "metadata": {},
   "outputs": [
    {
     "data": {
      "application/vnd.jupyter.widget-view+json": {
       "model_id": "aebf2332d313425290966b6cf2616262",
       "version_major": 2,
       "version_minor": 0
      },
      "text/plain": [
       "Map(bottom=48946.0, center=[42.020732852644294, -76.45714861188685], controls=(WidgetControl(options=['positio…"
      ]
     },
     "metadata": {},
     "output_type": "display_data"
    }
   ],
   "source": [
    "#m = geemap.Map()\n",
    "poly5 = ee.Geometry.Point([-76.298213, 39.268582]).buffer(7000)\n",
    "Map.addLayer(poly5, {'color': 'FF0000'}, 'planar polygon')\n",
    "Map"
   ]
  },
  {
   "cell_type": "code",
   "execution_count": null,
   "id": "78f40826",
   "metadata": {},
   "outputs": [],
   "source": []
  }
 ],
 "metadata": {
  "kernelspec": {
   "display_name": "Python 3",
   "language": "python",
   "name": "python3"
  },
  "language_info": {
   "codemirror_mode": {
    "name": "ipython",
    "version": 3
   },
   "file_extension": ".py",
   "mimetype": "text/x-python",
   "name": "python",
   "nbconvert_exporter": "python",
   "pygments_lexer": "ipython3",
   "version": "3.6.4"
  }
 },
 "nbformat": 4,
 "nbformat_minor": 5
}
